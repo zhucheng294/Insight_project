{
 "cells": [
  {
   "cell_type": "markdown",
   "metadata": {
    "collapsed": true
   },
   "source": [
    "In this post, we will be building a data visualization using Plotly Dash 2.0 (in fact, it will be the same regression visualization that was created in these two blog posts: HERE and HERE). As a reminder from those two posts, this visualization will demonstrate linear regression on random data by creating a sample dataset using the scikit-learn function \"make_regression\", which will actually generate the data behind-the-scenes. Plotly controls will be used to supply the required parameters to the function.\n",
    "\n",
    "The first section below contains the header of the function (with useful information about what it does, who wrote it, when it was last updated), along with importing all required libraries."
   ]
  },
  {
   "cell_type": "code",
   "execution_count": 1,
   "metadata": {},
   "outputs": [
    {
     "name": "stderr",
     "output_type": "stream",
     "text": [
      "/Users/zhucheng/anaconda3/lib/python3.7/site-packages/sklearn/externals/six.py:31: DeprecationWarning:\n",
      "\n",
      "The module is deprecated in version 0.21 and will be removed in version 0.23 since we've dropped support for Python 2.7. Please rely on the official version of six (https://pypi.org/project/six/).\n",
      "\n",
      "/Users/zhucheng/anaconda3/lib/python3.7/site-packages/sklearn/externals/joblib/__init__.py:15: DeprecationWarning:\n",
      "\n",
      "sklearn.externals.joblib is deprecated in 0.21 and will be removed in 0.23. Please import this functionality directly from joblib, which can be installed with: pip install joblib. If this warning is raised when loading pickled models, you may need to re-serialize those models with scikit-learn 0.21+.\n",
      "\n"
     ]
    }
   ],
   "source": [
    "import numpy as np\n",
    "import scipy\n",
    "from scipy import stats\n",
    "import pandas as pd\n",
    "\n",
    "import math\n",
    "import torch\n",
    "import gpytorch\n",
    "\n",
    "import dash\n",
    "import plotly.graph_objs as go\n",
    "import dash_core_components as dcc\n",
    "import dash_html_components as html\n",
    "from dash.dependencies import Input, Output, State\n",
    "\n",
    "from sklearn.datasets import make_regression\n",
    "from sklearn.linear_model import LinearRegression as LR\n",
    "from sklearn.ensemble import RandomForestClassifier, GradientBoostingClassifier\n",
    "from sklearn.gaussian_process import GaussianProcessRegressor\n",
    "from sklearn.gaussian_process.kernels import DotProduct, WhiteKernel, RBF\n",
    "from sklearn.model_selection import train_test_split\n",
    "from sklearn.metrics import accuracy_score, confusion_matrix\n",
    "from sklearn.utils.multiclass import unique_labels\n",
    "from sklearn.preprocessing import OneHotEncoder\n",
    "import pickle\n",
    "\n",
    "from imblearn.over_sampling import SMOTE\n",
    "from collections import Counter\n",
    "import matplotlib.pyplot as plt\n",
    "\n",
    "TRAINING_ITER = 20\n",
    "NUM_TREE = 10000\n",
    "TREE_MAX_DEPTH = 12\n",
    "\n",
    "%matplotlib inline\n",
    "%load_ext autoreload\n",
    "%autoreload 2"
   ]
  },
  {
   "cell_type": "markdown",
   "metadata": {},
   "source": [
    "As one of the first things that will be seen when the code is opened, a parameter defaults section allows the controls to be easily changed, without digging too deeply into the code. In the code below, the defaults and ranges for the number of samples, the bias, and the amount of noise can be adjusted easily. These will be inputs to the \"make_regression\" function."
   ]
  },
  {
   "cell_type": "code",
   "execution_count": 2,
   "metadata": {},
   "outputs": [],
   "source": [
    "###------------------------------------------------------------------------###\n",
    "###------------------------PARAMETER DEFAULTS------------------------------###\n",
    "### This section contains defaults and ranges for the Plotly controls and  ###\n",
    "### may be modified without concern, if required.                          ###\n",
    "###------------------------------------------------------------------------###\n",
    "# The format for this section is: default, range[Lower, Upper, Step Size]\n",
    "\n",
    "d_nsamp, r_nsamp = 100, [50, 500, 50] # Number of samples\n",
    "d_bias, r_bias = 0, [-50, 50, 5] # Bias\n",
    "d_noise, r_noise = 3, [0, 20, 1] # Amount of noise"
   ]
  },
  {
   "cell_type": "markdown",
   "metadata": {},
   "source": [
    "Based on the different way that Plotly apps are laid out, the order of the sections will be changed somewhat, compared to the Bokeh example. The next section contains the base level function(s), which in this case will be used to generate data."
   ]
  },
  {
   "cell_type": "code",
   "execution_count": 3,
   "metadata": {
    "inputHidden": false,
    "outputHidden": false
   },
   "outputs": [],
   "source": [
    "###------------------------------------------------------------------------###\n",
    "###-----------------------BASE-LEVEL FUNCTIONS-----------------------------###\n",
    "### This section contains the low-level calculations required for the      ###\n",
    "### regression modeling.                                                  ###\n",
    "###------------------------------------------------------------------------###\n",
    "def create_data(n_samp, bias, noise):\n",
    "    # Creates a set of random data based on user parameters\n",
    "    data = make_regression(n_samp, 1, 1, 1, bias, noise=noise)\n",
    "    x_data = np.array([i[0] for i in data[0]]) # Because it's an array of arrays\n",
    "    y_data = data[1]\n",
    "    return x_data, y_data"
   ]
  },
  {
   "cell_type": "markdown",
   "metadata": {},
   "source": [
    "The next section defines the layout of the Plotly Dash app, including the controls and graphs that will be present in the GUI. This layout includes a plot of the data and the sliders for the parameters (number of samples, bias, and noise). Note that the defaults and ranges for the controls were defined in the previous section, so this section should not need modification unless new controls are being added. "
   ]
  },
  {
   "cell_type": "code",
   "execution_count": 4,
   "metadata": {},
   "outputs": [],
   "source": [
    "presidential = pd.read_csv(\"2020_presidential_tracker.csv\", delimiter = ',')\n",
    "\n",
    "X_features = presidential[['greek', 'athlete', 'financialAid',\n",
    "       'gender', 'geography', 'highschool', 'legacy', 'major', 'orientation',\n",
    "       'race', 'year', 'school', 'q5', 'q3', 'q1', 'q7', 'q4', 'q2', 'q6',\n",
    "       'q8']]\n",
    "\n",
    "X_features = X_features[X_features['q6'] != 5.0]\n",
    "X_features = X_features[X_features['q7'] != 5.0]\n",
    "X_features = X_features.dropna(subset = ['major','gender','orientation','geography',\n",
    "                                         'q2', 'q3', 'q4', 'q5', 'q7', 'q8'])\n",
    "\n",
    "X_features['q6'].replace([1.0, 2.0, 3.0, 4.0], [8.0, 7.0, 6.0, 5.0], inplace=True)\n",
    "X_features['q6'].replace([5.0, 6.0, 7.0, 8.0], [1.0, 2.0, 3.0, 4.0], inplace=True)\n",
    "X_features['q7'].replace([1.0, 2.0, 3.0, 4.0], [8.0, 7.0, 6.0, 5.0], inplace=True)\n",
    "X_features['q7'].replace([5.0, 6.0, 7.0, 8.0], [1.0, 2.0, 3.0, 4.0], inplace=True)\n",
    "\n",
    "y_labels_d = X_features[['q6']]\n",
    "y_labels_r = X_features[['q7']]\n",
    "X_features = X_features[['major','gender','orientation','geography','q2', 'q3', 'q4', 'q5', 'q8']]"
   ]
  },
  {
   "cell_type": "markdown",
   "metadata": {},
   "source": [
    "# One hot encoding"
   ]
  },
  {
   "cell_type": "code",
   "execution_count": 5,
   "metadata": {},
   "outputs": [
    {
     "name": "stderr",
     "output_type": "stream",
     "text": [
      "/Users/zhucheng/anaconda3/lib/python3.7/site-packages/sklearn/preprocessing/_encoders.py:415: FutureWarning:\n",
      "\n",
      "The handling of integer data will change in version 0.22. Currently, the categories are determined based on the range [0, max(values)], while in the future they will be determined based on the unique values.\n",
      "If you want the future behaviour and silence this warning, you can specify \"categories='auto'\".\n",
      "In case you used a LabelEncoder before this OneHotEncoder to convert the categories to integers, then you can now use the OneHotEncoder directly.\n",
      "\n"
     ]
    }
   ],
   "source": [
    "enc = OneHotEncoder()\n",
    "enc.fit(X_features)\n",
    "X_features_onehot = enc.transform(X_features).toarray()"
   ]
  },
  {
   "cell_type": "code",
   "execution_count": 6,
   "metadata": {},
   "outputs": [],
   "source": [
    "X_train_val, X_test, y_train_val_d, y_test_d = train_test_split(X_features_onehot, y_labels_d, test_size=0.12, random_state = 24)"
   ]
  },
  {
   "cell_type": "code",
   "execution_count": 7,
   "metadata": {},
   "outputs": [],
   "source": [
    "y_train_val_r = y_labels_r.loc[y_train_val_d.index]\n",
    "y_test_r = y_labels_r.loc[y_test_d.index]"
   ]
  },
  {
   "cell_type": "code",
   "execution_count": 8,
   "metadata": {},
   "outputs": [
    {
     "name": "stderr",
     "output_type": "stream",
     "text": [
      "/Users/zhucheng/anaconda3/lib/python3.7/site-packages/sklearn/utils/validation.py:724: DataConversionWarning:\n",
      "\n",
      "A column-vector y was passed when a 1d array was expected. Please change the shape of y to (n_samples, ), for example using ravel().\n",
      "\n",
      "/Users/zhucheng/anaconda3/lib/python3.7/site-packages/sklearn/utils/validation.py:724: DataConversionWarning:\n",
      "\n",
      "A column-vector y was passed when a 1d array was expected. Please change the shape of y to (n_samples, ), for example using ravel().\n",
      "\n",
      "/Users/zhucheng/anaconda3/lib/python3.7/site-packages/sklearn/utils/validation.py:724: DataConversionWarning:\n",
      "\n",
      "A column-vector y was passed when a 1d array was expected. Please change the shape of y to (n_samples, ), for example using ravel().\n",
      "\n",
      "/Users/zhucheng/anaconda3/lib/python3.7/site-packages/sklearn/utils/validation.py:724: DataConversionWarning:\n",
      "\n",
      "A column-vector y was passed when a 1d array was expected. Please change the shape of y to (n_samples, ), for example using ravel().\n",
      "\n"
     ]
    },
    {
     "name": "stdout",
     "output_type": "stream",
     "text": [
      "Resampled dataset shape Counter({3.0: 503, 2.0: 503, 1.0: 503, 4.0: 503})\n",
      "Resampled dataset shape Counter({1.0: 464, 2.0: 464, 3.0: 464, 4.0: 464})\n"
     ]
    }
   ],
   "source": [
    "sm = SMOTE()\n",
    "X_smote_d, y_smote_d = sm.fit_sample(X_train_val, y_train_val_d)\n",
    "print('Resampled dataset shape %s' % Counter(y_smote_d))\n",
    "X_smote_r, y_smote_r = sm.fit_sample(X_train_val, y_train_val_r)\n",
    "print('Resampled dataset shape %s' % Counter(y_smote_r))\n"
   ]
  },
  {
   "cell_type": "code",
   "execution_count": 9,
   "metadata": {},
   "outputs": [],
   "source": [
    "for i in range(len(X_smote_d)):\n",
    "    for j in range(len(X_smote_d[i])):\n",
    "        if X_smote_d[i][j] != 0:\n",
    "            X_smote_d[i][j] = 1\n",
    "\n",
    "for i in range(len(X_smote_r)):\n",
    "    for j in range(len(X_smote_r[i])):\n",
    "        if X_smote_r[i][j] != 0:\n",
    "            X_smote_r[i][j] = 1"
   ]
  },
  {
   "cell_type": "code",
   "execution_count": 10,
   "metadata": {},
   "outputs": [],
   "source": [
    "from sklearn.gaussian_process import GaussianProcessRegressor\n",
    "\n",
    "from sklearn.gaussian_process.kernels import DotProduct, WhiteKernel\n",
    "from sklearn.gaussian_process.kernels import RBF\n",
    "\n",
    "kernel = DotProduct() + WhiteKernel()\n",
    "# kernel = RBF()\n",
    "gpr_d = GaussianProcessRegressor(kernel=kernel,random_state=0).fit(X_smote_d, y_smote_d)\n",
    "gpr_r = GaussianProcessRegressor(kernel=kernel,random_state=0).fit(X_smote_r, y_smote_r)"
   ]
  },
  {
   "cell_type": "code",
   "execution_count": 11,
   "metadata": {},
   "outputs": [],
   "source": [
    "d_major, r_major = 1, [1,73,1] # major\n",
    "d_gender, r_gender = 1, [1,6,1] # gender\n",
    "d_orient, r_orient = 1, [1,7,1] # orientation\n",
    "d_geog, r_geog = 1, [1,8,1] # geography\n",
    "# Regardless of who you may support in the upcoming 2020 presidential election\n",
    "d_q2, r_q2 = 1, [1,20,1] # Q2: who would you most like to be the Democratic nominee for President?\n",
    "d_q3, r_q3 = 1, [1,3,1] # Q3: would you prefer (Donald) Trump to be the Republican, or prefer another Republican?\n",
    "d_q4, r_q4 = 1, [1,4,1] # Q4: would you vote for the Democratic candidate, or Donald Trump or not vote?\n",
    "d_q5, r_q5 = 1, [1,6,1] # Q5: a favorable or unfavorable opinion of President Donald Trump?\n",
    "d_q7, r_q7 = 1, [1,6,1] # Q7: a favorable or unfavorable opinion of The Republican Party?\n",
    "d_q8, r_q8 = 1, [1,3,1] # Q8: do you think Donald Trump will be reelected president in 2020, or not?"
   ]
  },
  {
   "cell_type": "code",
   "execution_count": 12,
   "metadata": {},
   "outputs": [],
   "source": [
    "# App defines the entire Dash application, containing the layout and controls \n",
    "# for the visualization (in app.layout)\n",
    "app = dash.Dash()\n",
    "\n",
    "external_stylesheets = ['https://codepen.io/chriddyp/pen/bWLwgP.css']\n",
    "\n",
    "app = dash.Dash(__name__, external_stylesheets=external_stylesheets)\n",
    "\n",
    "app.layout = html.Div(children=[   \n",
    "    html.Div('Major', style = {'fontSize': '25px'}),\n",
    "    dcc.Dropdown(\n",
    "        id='Major',\n",
    "        options=[\n",
    "            {'label': str(i), 'value': i} for i in range(r_major[0], r_major[1], r_major[2])\n",
    "        ],\n",
    "        value= 1.0,\n",
    "        style={'height': '40px', 'width': '500px', 'fontSize': '20px'},\n",
    "    ),\n",
    "   \n",
    "    html.Div('Gender', style = {'fontSize': '25px'}),\n",
    "    dcc.Dropdown(\n",
    "        id='Gender',\n",
    "        options=[\n",
    "            {'label': 'man', 'value': 1.0},\n",
    "            {'label': 'woman', 'value': 2.0},\n",
    "            {'label': 'transgender male', 'value': 3.0},\n",
    "            {'label': 'transgender female', 'value': 4.0},\n",
    "            {'label': 'genderqueer', 'value': 5.0},\n",
    "            {'label': 'other', 'value': 6.0},     \n",
    "        ],\n",
    "        value= 1.0,\n",
    "        style={'height': '40px', 'width': '500px', 'fontSize': '20px'},\n",
    "    ),\n",
    "    \n",
    "    html.Div('Orientation', style = {'fontSize': '25px'}),\n",
    "    dcc.Dropdown(\n",
    "        id='Orientation',\n",
    "        options=[\n",
    "            {'label': 'lesbian/gay', 'value': 1.0},\n",
    "            {'label': 'straight', 'value': 2.0}, # Heterosexual\n",
    "            {'label': 'bisexual', 'value': 3.0},\n",
    "            {'label': 'pansexual', 'value': 4.0},\n",
    "            {'label': 'queer', 'value': 5.0},\n",
    "            {'label': 'questioning', 'value': 6.0},\n",
    "            {'label': 'other', 'value': 7.0},\n",
    "        ],\n",
    "        value= 2.0,\n",
    "        style={'height': '40px', 'width': '500px', 'fontSize': '20px'},\n",
    "    ),\n",
    "    \n",
    "    html.Div('Geography', style = {'fontSize': '25px'}),\n",
    "    dcc.Dropdown(\n",
    "        id='Geography',\n",
    "        options=[\n",
    "            {'label': 'New England', 'value': 1.0},\n",
    "            {'label': 'Mid-Atlantic', 'value': 2.0},\n",
    "            {'label': 'Midwest', 'value': 3.0},\n",
    "            {'label': 'South', 'value': 4.0},\n",
    "            {'label': 'West', 'value': 5.0},\n",
    "            {'label': 'Non-Continental', 'value': 6.0},\n",
    "            {'label': 'International', 'value': 7.0},\n",
    "            {'label': 'Other', 'value': 8.0},\n",
    "        ],\n",
    "        value= 1.0,\n",
    "        style={'height': '40px', 'width': '500px', 'fontSize': '20px'},\n",
    "    ),\n",
    "    \n",
    "    html.Div('Question 2', style = {'fontSize': '25px'}),\n",
    "    dcc.Dropdown(\n",
    "        id='Q2',\n",
    "        options=[\n",
    "            {'label': 'Sanders', 'value': 1.0},\n",
    "            {'label': 'Booker', 'value': 2.0},\n",
    "            {'label': 'Harris', 'value': 3.0},\n",
    "            {'label': 'Warren', 'value': 4.0},\n",
    "            {'label': 'Klobuchar', 'value': 5.0},\n",
    "            {'label': 'Castro', 'value': 6.0},\n",
    "            {'label': 'Gillibrand', 'value': 7.0},\n",
    "            {'label': 'Gabbard', 'value': 8.0},\n",
    "            {'label': 'Biden', 'value': 9.0},\n",
    "            {'label': \"O'Rouke\", 'value': 10.0},\n",
    "            {'label': 'Inslee', 'value': 11.0},\n",
    "            {'label': 'Delaney', 'value': 12.0},\n",
    "            {'label': 'Kickenlooper', 'value': 13.0},\n",
    "            {'label': 'Buttigieg', 'value': 14.0},\n",
    "            {'label': 'Bullock', 'value': 15.0},\n",
    "            {'label': 'McAuliffe', 'value': 16.0},\n",
    "            {'label': 'Ryan', 'value': 17.0},\n",
    "            {'label': 'Yang', 'value': 18.0},\n",
    "            {'label': 'Other', 'value': 19.0},\n",
    "            {'label': 'Refused', 'value': 20.0},\n",
    "        ],\n",
    "        value= 1.0,\n",
    "        style={'height': '40px', 'width': '500px', 'fontSize': '20px'},\n",
    "    ),\n",
    "    \n",
    "    html.Div('Question 3', style = {'fontSize': '25px'}),\n",
    "    dcc.Dropdown(\n",
    "        id='Q3',\n",
    "        options=[\n",
    "            {'label': '1', 'value': 1.0},\n",
    "            {'label': '2', 'value': 2.0},\n",
    "            {'label': '3', 'value': 3.0},\n",
    "        ],\n",
    "        value= 1.0,\n",
    "        style={'height': '40px', 'width': '500px', 'fontSize': '20px'},\n",
    "    ),\n",
    "    \n",
    "    \n",
    "    html.Div('Question 4', style = {'fontSize': '25px'}),\n",
    "    dcc.Dropdown(\n",
    "        id='Q4',\n",
    "        options=[\n",
    "            {'label': '1', 'value': 1.0},\n",
    "            {'label': '2', 'value': 2.0},\n",
    "            {'label': '3', 'value': 3.0},\n",
    "            {'label': '4', 'value': 4.0},\n",
    "        ],\n",
    "        value= 1.0,\n",
    "        style={'height': '40px', 'width': '500px', 'fontSize': '20px'},\n",
    "    ),\n",
    "    \n",
    "    html.Div('Question 5', style = {'fontSize': '25px'}),\n",
    "    dcc.Dropdown(\n",
    "        id='Q5',\n",
    "        options=[\n",
    "            {'label': 'Democratic candidate', 'value': 1.0},\n",
    "            {'label': 'Trump', 'value': 2.0},\n",
    "            {'label': 'Would not vote', 'value': 3.0},\n",
    "            {'label': 'Refused', 'value': 4.0},\n",
    "        ],\n",
    "        value= 1.0,\n",
    "        style={'height': '40px', 'width': '500px', 'fontSize': '20px'},\n",
    "    ),\n",
    "    \n",
    "    html.Div('Question 8', style = {'fontSize': '25px'}),\n",
    "    dcc.Dropdown(\n",
    "        id='Q8',\n",
    "        options=[\n",
    "            {'label': '1', 'value': 1.0},\n",
    "            {'label': '2', 'value': 2.0},\n",
    "            {'label': '3', 'value': 3.0},\n",
    "        ],\n",
    "        value= 1.0,\n",
    "        style={'height': '40px', 'width': '500px', 'fontSize': '20px'},\n",
    "    ),\n",
    "    \n",
    "    html.Button('Submit', id='button'),\n",
    "    \n",
    "    dcc.Graph(id='regression-example',\n",
    "            figure={\n",
    "            'data': [\n",
    "                {\n",
    "                    'x': np.linspace(0.5, 4.5, 100),\n",
    "                    'y': 2.0,\n",
    "                    'text': ['a', 'b', 'c', 'd'],\n",
    "                    'customdata': ['c.a', 'c.b', 'c.c', 'c.d'],\n",
    "                    'name': 'True label (Student Response)',\n",
    "                    'mode': 'lines',\n",
    "                    'marker': {'size': 12}\n",
    "                },\n",
    "            ],\n",
    "            'layout': {'title': 'Do you have a favorable or unfavorable opinion of The Democratic Party?', \n",
    "                      'xaxis':{'title':'Student ID'},\n",
    "                       'yaxis':{'title':'Level of Unfavorability'}\n",
    "                      }})\n",
    "])"
   ]
  },
  {
   "cell_type": "markdown",
   "metadata": {
    "collapsed": true
   },
   "source": [
    "Finally, the \"Callbacks\" section defines what happens when the user controls are interacted with (sample size, noise, and bias sliders). If the user controls are changed in any way, new data will be generated based on their values and the figure will be updated automatically. Plotly Dash does this using a function decorator called @app.callback. It's important to remember that the inputs specified in the decorator will be in the same order as the parameters to the function."
   ]
  },
  {
   "cell_type": "code",
   "execution_count": 13,
   "metadata": {},
   "outputs": [
    {
     "name": "stdout",
     "output_type": "stream",
     "text": [
      " * Serving Flask app \"__main__\" (lazy loading)\n",
      " * Environment: production\n",
      "   WARNING: Do not use the development server in a production environment.\n",
      "   Use a production WSGI server instead.\n",
      " * Debug mode: off\n"
     ]
    },
    {
     "name": "stderr",
     "output_type": "stream",
     "text": [
      " * Running on http://127.0.0.1:8050/ (Press CTRL+C to quit)\n",
      "127.0.0.1 - - [07/Jul/2019 20:46:45] \"\u001b[37mGET / HTTP/1.1\u001b[0m\" 200 -\n",
      "127.0.0.1 - - [07/Jul/2019 20:46:45] \"\u001b[37mGET /_dash-dependencies HTTP/1.1\u001b[0m\" 200 -\n",
      "127.0.0.1 - - [07/Jul/2019 20:46:45] \"\u001b[37mGET /_dash-layout HTTP/1.1\u001b[0m\" 200 -\n",
      "/Users/zhucheng/anaconda3/lib/python3.7/site-packages/sklearn/preprocessing/_encoders.py:415: FutureWarning:\n",
      "\n",
      "The handling of integer data will change in version 0.22. Currently, the categories are determined based on the range [0, max(values)], while in the future they will be determined based on the unique values.\n",
      "If you want the future behaviour and silence this warning, you can specify \"categories='auto'\".\n",
      "In case you used a LabelEncoder before this OneHotEncoder to convert the categories to integers, then you can now use the OneHotEncoder directly.\n",
      "\n",
      "127.0.0.1 - - [07/Jul/2019 20:46:46] \"\u001b[37mPOST /_dash-update-component HTTP/1.1\u001b[0m\" 200 -\n"
     ]
    }
   ],
   "source": [
    "###-----------------------------------------------------------------------###\n",
    "###----------------------------CALLBACKS----------------------------------###\n",
    "### This section defines the behavior of the GUI as the user interacts    ###\n",
    "### with the controls.                                                  ###\n",
    "###-----------------------------------------------------------------------###\n",
    "# Define which inputs (the sliders) go to which outputs (the figure)\n",
    "\n",
    "@app.callback(\n",
    "    Output('regression-example', 'figure'),\n",
    "    [Input('button', 'n_clicks')],\n",
    "    [State('Major', 'value'),\n",
    "     State('Gender', 'value'),\n",
    "     State('Orientation', 'value'),\n",
    "     State('Geography', 'value'),\n",
    "     State('Q2', 'value'),\n",
    "     State('Q3', 'value'),\n",
    "     State('Q4', 'value'),\n",
    "     State('Q5', 'value'),\n",
    "     State('Q8', 'value')])\n",
    "\n",
    "def update_graph(n_clicks,major,gender,orientation,geography,q2,q3,q4,q5,q8):\n",
    "    new_data_point = [major,gender,orientation,geography,q2,q3,q4,q5,q8]   \n",
    "    \n",
    "    new_data_pd = pd.DataFrame(columns=['major','gender','orientation','geography','q2', 'q3', 'q4', 'q5', 'q8'])\n",
    "    new_data_pd.loc[0] = new_data_point\n",
    "    enc1 = OneHotEncoder()\n",
    "    enc1.fit(X_features)\n",
    "    new_data_pd_onehot = enc1.transform(new_data_pd).toarray()\n",
    "    \n",
    "    gpr_pred_newdp_d, sigma_newdp_d = gpr_d.predict(new_data_pd_onehot, return_std = True)\n",
    "    gpr_pred_newdp_r, sigma_newdp_r = gpr_r.predict(new_data_pd_onehot, return_std = True)\n",
    "    \n",
    "    mu_d = gpr_pred_newdp_d\n",
    "    variance_d = np.sqrt(sigma_newdp_d)\n",
    "    mu_r = gpr_pred_newdp_r\n",
    "    variance_r = np.sqrt(sigma_newdp_r)\n",
    "    \n",
    "    # sigma = np.sqrt(variance)\n",
    "    x = np.linspace(0.5, 4.5, 100)\n",
    "    \n",
    "    return {\n",
    "            'data': [\n",
    "                {\n",
    "                    'x': np.linspace(0.5, 4.5, 100),\n",
    "                    'y': scipy.stats.norm.pdf(x, mu_d, variance_d),\n",
    "                    'text': ['a', 'b', 'c', 'd'],\n",
    "                    'customdata': ['c.a', 'c.b', 'c.c', 'c.d'],\n",
    "                    'name': 'Democratic party favorability',\n",
    "                    'mode': 'lines',\n",
    "                    'marker': {'size': 12}\n",
    "                },\n",
    "                {\n",
    "                    'x': np.linspace(0.5, 4.5, 100),\n",
    "                    'y': scipy.stats.norm.pdf(x, mu_r, variance_r),\n",
    "                    'text': ['w', 'x', 'y', 'z'],\n",
    "                    'customdata': ['c.w', 'c.x', 'c.y', 'c.z'],\n",
    "                    'name': 'Republican party favorability',\n",
    "                    'mode': 'lines',\n",
    "                    'marker': {'size': 12}\n",
    "                }\n",
    "            ],\n",
    "#             'layout': {'title': 'Party Favorability?', \n",
    "#                       'xaxis':{'title':'Student ID'},\n",
    "#                        'yaxis':{'title':'Level of Unfavorability'}\n",
    "#                       }}\n",
    "            'layout': go.Layout(\n",
    "            width=1000,\n",
    "            height=600,\n",
    "            xaxis={\n",
    "                'title': 'Party Favorability?',\n",
    "                #'type': 'linear' if xaxis_type == 'Linear' else 'log'\n",
    "            },\n",
    "            yaxis={\n",
    "                'title': 'Level of Unfavorability',\n",
    "                #'type': 'linear' if yaxis_type == 'Linear' else 'log'\n",
    "            },\n",
    "            margin={'l': 40, 'b': 30, 't': 10, 'r': 0},\n",
    "            \n",
    "            hovermode='closest',\n",
    "            # style={'display': 'inline-block'}\n",
    "            # 'width': '100%', \n",
    "        )\n",
    "\n",
    "if __name__ == '__main__':\n",
    "    app.run_server()"
   ]
  },
  {
   "cell_type": "markdown",
   "metadata": {},
   "source": [
    "Overall, the Plotly Dash code is very easy to understand and clear to read. Using a function decorator for callbacks provides a simple way to update the plots.\n",
    "\n",
    "The final visualization will look like this:"
   ]
  },
  {
   "cell_type": "code",
   "execution_count": null,
   "metadata": {},
   "outputs": [],
   "source": []
  }
 ],
 "metadata": {
  "kernel_info": {
   "name": "python3"
  },
  "kernelspec": {
   "display_name": "Python 3",
   "language": "python",
   "name": "python3"
  },
  "language_info": {
   "codemirror_mode": {
    "name": "ipython",
    "version": 3
   },
   "file_extension": ".py",
   "mimetype": "text/x-python",
   "name": "python",
   "nbconvert_exporter": "python",
   "pygments_lexer": "ipython3",
   "version": "3.7.3"
  }
 },
 "nbformat": 4,
 "nbformat_minor": 2
}
